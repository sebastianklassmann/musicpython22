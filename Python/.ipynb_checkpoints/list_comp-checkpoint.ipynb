{
 "cells": [
  {
   "cell_type": "markdown",
   "metadata": {},
   "source": [
    "# Python Lists Extended: List and Dictionary Comprehension"
   ]
  },
  {
   "cell_type": "code",
   "execution_count": null,
   "metadata": {
    "slideshow": {
     "slide_type": "skip"
    }
   },
   "outputs": [],
   "source": [
    "#### library import cell\n",
    "import numpy as np\n",
    "from random import randint\n",
    "from music21 import *"
   ]
  },
  {
   "cell_type": "markdown",
   "metadata": {
    "slideshow": {
     "slide_type": "skip"
    }
   },
   "source": [
    "**Author:** Sebastian Klassmann, sklassm1@uni-koeln.de  \n",
    "  \n",
    "Assumed Reading: Guttag (2016), chapter 5: structurd types, mutability and higher order functions\n",
    "\n",
    "Date: October 20$^{th}$, 2022  \n",
    "Libraries used: numpy, music21, random  \n",
    "Python Version: 3.7  \n",
    "Other dependencies: None"
   ]
  },
  {
   "cell_type": "markdown",
   "metadata": {
    "slideshow": {
     "slide_type": "skip"
    }
   },
   "source": [
    "-----"
   ]
  },
  {
   "cell_type": "markdown",
   "metadata": {
    "slideshow": {
     "slide_type": "slide"
    }
   },
   "source": [
    "# A short introduction to list comprehension and dictionaries in Python 3"
   ]
  },
  {
   "cell_type": "markdown",
   "metadata": {
    "slideshow": {
     "slide_type": "fragment"
    }
   },
   "source": [
    "List comprehension...\n",
    "* can serve to reduce number of for loops used in your code\n",
    "* according to some, computes more efficiently than loop structures and - in tandem with recursive functions - can be used to express anything that can be expressed with loops.\n",
    "* can express and achieve things in a tidy and short fashion\n",
    "* will usually **build a list**."
   ]
  },
  {
   "cell_type": "code",
   "execution_count": null,
   "metadata": {},
   "outputs": [],
   "source": [
    "list_something = [\"a\",\"b\",\"c\",\"d\"]\n",
    "for (i,e) in enumerate(list_something):\n",
    "    print(i,e)\n",
    "list_b = [(i,e) for i, e in enumerate(list_something)]\n",
    "print(list_b)"
   ]
  },
  {
   "cell_type": "code",
   "execution_count": null,
   "metadata": {},
   "outputs": [],
   "source": [
    "list_c = [[i,e] for i, e in enumerate(list_something)]\n",
    "print(list_b)\n",
    "print(type(list_b[0]))\n",
    "print(list_c)\n",
    "print(type(list_c[0]))\n",
    "list_d = list_b.copy()\n",
    "list_d.append(list_c)\n",
    "print(list_d)"
   ]
  },
  {
   "cell_type": "markdown",
   "metadata": {
    "slideshow": {
     "slide_type": "slide"
    }
   },
   "source": [
    "Basic structure:  \n",
    "```[expr for val in collection]```\n",
    "Where expr is any Python expression, val has to be an object that can be evaluated to a value and collection is a Python iterable."
   ]
  },
  {
   "cell_type": "code",
   "execution_count": null,
   "metadata": {},
   "outputs": [],
   "source": [
    "listA = []\n",
    "for value in range(25):\n",
    "    listA.append(value)\n",
    "print(listA)"
   ]
  },
  {
   "cell_type": "code",
   "execution_count": null,
   "metadata": {},
   "outputs": [],
   "source": [
    "listB = [value for value in range(25)]\n",
    "print(listB)"
   ]
  },
  {
   "cell_type": "markdown",
   "metadata": {
    "slideshow": {
     "slide_type": "slide"
    }
   },
   "source": [
    "**Expression vs. Statement?** (have a look at Guttag (2016), chapter 2 - pp. 9f.)"
   ]
  },
  {
   "cell_type": "markdown",
   "metadata": {
    "slideshow": {
     "slide_type": "fragment"
    }
   },
   "source": [
    "* Objects and operators can be combined to form **expressions**, each of which evaluates to an object of some type. We will refer to this as the value of the expression.\n",
    "* A **command**, often called a **statement**, instructs the interpreter to do something."
   ]
  },
  {
   "cell_type": "markdown",
   "metadata": {
    "slideshow": {
     "slide_type": "slide"
    }
   },
   "source": [
    "Let's check out how it works by starting from a list."
   ]
  },
  {
   "cell_type": "code",
   "execution_count": null,
   "metadata": {
    "slideshow": {
     "slide_type": "fragment"
    }
   },
   "outputs": [],
   "source": [
    "list1 = [1,2,3,4,5]\n",
    "print(list1)"
   ]
  },
  {
   "cell_type": "markdown",
   "metadata": {
    "slideshow": {
     "slide_type": "slide"
    }
   },
   "source": [
    "Now, if we want to add 2 to every item in this list, we can do so using for loops:"
   ]
  },
  {
   "cell_type": "code",
   "execution_count": null,
   "metadata": {
    "slideshow": {
     "slide_type": "fragment"
    }
   },
   "outputs": [],
   "source": [
    "for i in range(len(list1)):\n",
    "    list1[i] += 2\n",
    "print(list1)"
   ]
  },
  {
   "cell_type": "markdown",
   "metadata": {
    "slideshow": {
     "slide_type": "slide"
    }
   },
   "source": [
    "However, this can also easily be achieved by using list comprehension:"
   ]
  },
  {
   "cell_type": "code",
   "execution_count": null,
   "metadata": {
    "slideshow": {
     "slide_type": "fragment"
    }
   },
   "outputs": [],
   "source": [
    "list2 = [(item+2) for item in [val for val in range(89)]]\n",
    "print(list2)"
   ]
  },
  {
   "cell_type": "code",
   "execution_count": null,
   "metadata": {},
   "outputs": [],
   "source": [
    "def square_e(x):\n",
    "    \n",
    "    epsilon = 0.01\n",
    "    step = epsilon**2\n",
    "    numGuesses = 0\n",
    "    ans = 0.0\n",
    "    while abs(ans**2 - x) >= epsilon and ans <= x:\n",
    "        ans += step\n",
    "        numGuesses += 1\n",
    "    #print('numGuesses =', numGuesses)\n",
    "    if abs(ans**2 - x) >= epsilon:\n",
    "        #print('Failed on square root of', x)\n",
    "        return None\n",
    "    else:\n",
    "        #print(ans, 'is close to square root of', x)\n",
    "        return ans"
   ]
  },
  {
   "cell_type": "code",
   "execution_count": null,
   "metadata": {},
   "outputs": [],
   "source": [
    "squarelist = [i**2 for i in range(2,12)]\n",
    "print(squarelist)"
   ]
  },
  {
   "cell_type": "code",
   "execution_count": null,
   "metadata": {},
   "outputs": [],
   "source": [
    "rootlist = [round(square_e(item),0) for item in squarelist]\n",
    "print(rootlist)"
   ]
  },
  {
   "cell_type": "code",
   "execution_count": null,
   "metadata": {},
   "outputs": [],
   "source": [
    "list2 = []\n",
    "for item in range(89):\n",
    "    list2.append(item+2)\n",
    "print(list2)"
   ]
  },
  {
   "cell_type": "markdown",
   "metadata": {
    "slideshow": {
     "slide_type": "slide"
    }
   },
   "source": [
    "Why is the distinction between statements and expressions important?"
   ]
  },
  {
   "cell_type": "markdown",
   "metadata": {
    "slideshow": {
     "slide_type": "slide"
    }
   },
   "source": [
    "There is some statements in Python that you would not intuitively seem to be a statement. Yet, they do not work in list comprehensions:"
   ]
  },
  {
   "cell_type": "code",
   "execution_count": null,
   "metadata": {},
   "outputs": [],
   "source": [
    "list1 = [1,2,3,4,5]"
   ]
  },
  {
   "cell_type": "code",
   "execution_count": null,
   "metadata": {},
   "outputs": [],
   "source": [
    "print(list1)"
   ]
  },
  {
   "cell_type": "code",
   "execution_count": null,
   "metadata": {
    "slideshow": {
     "slide_type": "slide"
    }
   },
   "outputs": [],
   "source": [
    "list2b = [a+=1 for a in list1]\n",
    "print(list2b)"
   ]
  },
  {
   "cell_type": "code",
   "execution_count": null,
   "metadata": {
    "slideshow": {
     "slide_type": "slide"
    }
   },
   "outputs": [],
   "source": [
    "list2c = [a+1 for a in list1]\n",
    "print(list2c)"
   ]
  },
  {
   "cell_type": "markdown",
   "metadata": {
    "slideshow": {
     "slide_type": "slide"
    }
   },
   "source": [
    "$\\rightarrow$ In Python, variable assignments are **assignment statements** and therefore can not be used directly in list comprehensions.\n",
    "* Think about the implications for a second."
   ]
  },
  {
   "cell_type": "markdown",
   "metadata": {
    "slideshow": {
     "slide_type": "slide"
    }
   },
   "source": [
    "### Exercise!  \n",
    "  \n",
    "1. Define a list that contains the following integers: ```[2,4,7,3]```  \n",
    "2. using listname.copy(), make a copy of the list.\n",
    "3. Using a for loop, square every item in the list.\n",
    "4. Using the copy of our initial list, print a list containing the squares of every integer in the list. You are not allowed to use loops in this one, make use of list comprehension!"
   ]
  },
  {
   "cell_type": "code",
   "execution_count": null,
   "metadata": {},
   "outputs": [],
   "source": [
    "i_list = [2,4,7,3]\n",
    "c_list = i_list.copy()\n",
    "print(i_list)\n",
    "print(c_list)"
   ]
  },
  {
   "cell_type": "code",
   "execution_count": null,
   "metadata": {},
   "outputs": [],
   "source": [
    "for item in i_list:\n",
    "    item = item **2\n",
    "print(i_list)"
   ]
  },
  {
   "cell_type": "code",
   "execution_count": null,
   "metadata": {},
   "outputs": [],
   "source": [
    "for i, _ in enumerate(i_list):\n",
    "    i_list[i] = i_list[i]**2\n",
    "print(i_list)"
   ]
  },
  {
   "cell_type": "code",
   "execution_count": null,
   "metadata": {},
   "outputs": [],
   "source": [
    "c_list = [item**2 for item in i_list]\n",
    "print(c_list)\n",
    "print(i_list)"
   ]
  },
  {
   "cell_type": "markdown",
   "metadata": {
    "slideshow": {
     "slide_type": "skip"
    }
   },
   "source": [
    "----"
   ]
  },
  {
   "cell_type": "markdown",
   "metadata": {
    "slideshow": {
     "slide_type": "slide"
    }
   },
   "source": [
    "Here's another example solved in both ways:"
   ]
  },
  {
   "cell_type": "code",
   "execution_count": null,
   "metadata": {
    "slideshow": {
     "slide_type": "slide"
    }
   },
   "outputs": [],
   "source": [
    "list3 = []\n",
    "for i in range(1,11):\n",
    "    list3.append(i**2)\n",
    "print(list3)"
   ]
  },
  {
   "cell_type": "code",
   "execution_count": null,
   "metadata": {
    "slideshow": {
     "slide_type": "fragment"
    }
   },
   "outputs": [],
   "source": [
    "list4 = [i**2 for i  in range(1,11)]\n",
    "print(list4)"
   ]
  },
  {
   "cell_type": "markdown",
   "metadata": {
    "slideshow": {
     "slide_type": "slide"
    }
   },
   "source": [
    "Can you use functions inside list comprehensions? Sure, if the function in itself fulfills the criterion for being an expression (if it evaluates to an object having a value):"
   ]
  },
  {
   "cell_type": "code",
   "execution_count": null,
   "metadata": {
    "slideshow": {
     "slide_type": "slide"
    }
   },
   "outputs": [],
   "source": [
    "## modified code from Guttag (2016), figure 3.4:\n",
    "\n",
    "def rootit(x):\n",
    "    epsilon = 0.01\n",
    "    numGuesses = 0\n",
    "    low = 0.0\n",
    "    high = max(1.0, x)\n",
    "    ans = (high + low)/2.0\n",
    "    while abs(ans**2 - x) >= epsilon:\n",
    "        # print('low =', low, 'high =', high, 'ans =', ans)\n",
    "        numGuesses += 1\n",
    "        if ans**2 < x:\n",
    "            low = ans\n",
    "        else:\n",
    "            high = ans\n",
    "        ans = (high + low)/2.0\n",
    "    # print('numGuesses =', numGuesses)\n",
    "    # print(ans, 'is close to square root of', x)\n",
    "    return ans"
   ]
  },
  {
   "cell_type": "code",
   "execution_count": null,
   "metadata": {
    "slideshow": {
     "slide_type": "slide"
    }
   },
   "outputs": [],
   "source": [
    "rootablelist = [i**2 for i in range(2,64,2)]\n",
    "print(rootablelist)\n",
    "# print(rootablelist)"
   ]
  },
  {
   "cell_type": "code",
   "execution_count": null,
   "metadata": {
    "slideshow": {
     "slide_type": "fragment"
    }
   },
   "outputs": [],
   "source": [
    "rootlist = [round(rootit(element),0) for element in rootablelist]\n",
    "print(rootlist)"
   ]
  },
  {
   "cell_type": "markdown",
   "metadata": {
    "slideshow": {
     "slide_type": "skip"
    }
   },
   "source": [
    "-----"
   ]
  },
  {
   "cell_type": "markdown",
   "metadata": {
    "slideshow": {
     "slide_type": "slide"
    }
   },
   "source": [
    "Let us now consider a list of names:"
   ]
  },
  {
   "cell_type": "code",
   "execution_count": null,
   "metadata": {
    "slideshow": {
     "slide_type": "fragment"
    }
   },
   "outputs": [],
   "source": [
    "list5 = [\"Adam\", \"Sven\", \"Andrea\", \"Jim\", \"Tim\", \"John\", \"Anette\", \"Julia\"]\n",
    "print(list5)"
   ]
  },
  {
   "cell_type": "markdown",
   "metadata": {
    "slideshow": {
     "slide_type": "slide"
    }
   },
   "source": [
    "What if we want to create another list that only contains those names that start with \"A\" from the above?"
   ]
  },
  {
   "cell_type": "code",
   "execution_count": null,
   "metadata": {
    "slideshow": {
     "slide_type": "slide"
    }
   },
   "outputs": [],
   "source": [
    "list6 = []\n",
    "for item in list5:\n",
    "    if item.startswith(\"A\"):\n",
    "        list6.append(item)\n",
    "print(list6)"
   ]
  },
  {
   "cell_type": "markdown",
   "metadata": {
    "slideshow": {
     "slide_type": "fragment"
    }
   },
   "source": [
    "That seems to be working. However, list comprehension can also contain if-conditions:"
   ]
  },
  {
   "cell_type": "markdown",
   "metadata": {
    "slideshow": {
     "slide_type": "slide"
    }
   },
   "source": [
    "Basic structure:  \n",
    "```[expr for val in collection if <condition>]```\n"
   ]
  },
  {
   "cell_type": "markdown",
   "metadata": {
    "slideshow": {
     "slide_type": "fragment"
    }
   },
   "source": [
    "If we apply that to our list5 from above and try to achieve the same goal:"
   ]
  },
  {
   "cell_type": "code",
   "execution_count": null,
   "metadata": {
    "slideshow": {
     "slide_type": "fragment"
    }
   },
   "outputs": [],
   "source": [
    "list7 = [name for name in list5 if name.startswith(\"A\")]\n",
    "print(list7)"
   ]
  },
  {
   "cell_type": "markdown",
   "metadata": {
    "slideshow": {
     "slide_type": "slide"
    }
   },
   "source": [
    "We can even specify different expressions in case the first condition is not met:"
   ]
  },
  {
   "cell_type": "code",
   "execution_count": null,
   "metadata": {
    "slideshow": {
     "slide_type": "fragment"
    }
   },
   "outputs": [],
   "source": [
    "list8 = [name if name.startswith(\"A\") else \"name didn't start with A\" for name in list5]\n",
    "print(list8)"
   ]
  },
  {
   "cell_type": "code",
   "execution_count": null,
   "metadata": {},
   "outputs": [],
   "source": [
    "list8 = [name if name.startswith(\"A\") else name if name.startswith(\"S\") else \"name didn't start with A\" for name in list5]\n",
    "print(list8)"
   ]
  },
  {
   "cell_type": "markdown",
   "metadata": {
    "slideshow": {
     "slide_type": "slide"
    }
   },
   "source": [
    "Please note the different syntax based on whether or not an alternative condition is specified:"
   ]
  },
  {
   "cell_type": "code",
   "execution_count": null,
   "metadata": {
    "slideshow": {
     "slide_type": "fragment"
    }
   },
   "outputs": [],
   "source": [
    "list7 = [name for name in list5 if name.startswith(\"A\")]\n",
    "list8 = [name if name.startswith(\"A\") else \"name didn't start with A\" for name in list5]"
   ]
  },
  {
   "cell_type": "markdown",
   "metadata": {
    "slideshow": {
     "slide_type": "slide"
    }
   },
   "source": [
    "Let us do one more! How about starting from a list of integers?"
   ]
  },
  {
   "cell_type": "code",
   "execution_count": null,
   "metadata": {
    "slideshow": {
     "slide_type": "fragment"
    }
   },
   "outputs": [],
   "source": [
    "from random import randint\n",
    "list9 = [randint(0,250) for i in range(20)]\n",
    "print(list9)"
   ]
  },
  {
   "cell_type": "markdown",
   "metadata": {
    "slideshow": {
     "slide_type": "slide"
    }
   },
   "source": [
    "Okay, now - how if we want to make all numbers in the list even by subtracting 1 from every number that is odd? "
   ]
  },
  {
   "cell_type": "markdown",
   "metadata": {
    "slideshow": {
     "slide_type": "slide"
    }
   },
   "source": [
    "It can surely be achieved by for loops:"
   ]
  },
  {
   "cell_type": "code",
   "execution_count": null,
   "metadata": {
    "slideshow": {
     "slide_type": "slide"
    }
   },
   "outputs": [],
   "source": [
    "list10 = []\n",
    "for element in list9:\n",
    "    if element % 2 == 0:\n",
    "        list10.append(element)\n",
    "    else:\n",
    "        element -= 1\n",
    "        list10.append(element)\n",
    "print(list10)"
   ]
  },
  {
   "cell_type": "markdown",
   "metadata": {
    "slideshow": {
     "slide_type": "slide"
    }
   },
   "source": [
    "Using list comprehension, the neccessary code becomes considerably shorter:"
   ]
  },
  {
   "cell_type": "code",
   "execution_count": null,
   "metadata": {
    "slideshow": {
     "slide_type": "fragment"
    }
   },
   "outputs": [],
   "source": [
    "list11 = [element if element%2==0 else element-1 for element in list9]\n",
    "print(list11)"
   ]
  },
  {
   "cell_type": "markdown",
   "metadata": {
    "slideshow": {
     "slide_type": "skip"
    }
   },
   "source": [
    "----"
   ]
  },
  {
   "cell_type": "markdown",
   "metadata": {
    "slideshow": {
     "slide_type": "slide"
    }
   },
   "source": [
    "### Exercise!  \n",
    "  \n",
    "1. Define a list that contains 250 random integers between 0 and 10000. \n",
    "2. Using a for loop, create a list that only contains items from the list that can be devided by 3 or 5 (no rest).\n",
    "3. Solve the same task, but only use a single list comprehension statement."
   ]
  },
  {
   "cell_type": "markdown",
   "metadata": {
    "slideshow": {
     "slide_type": "skip"
    }
   },
   "source": [
    "----"
   ]
  },
  {
   "cell_type": "markdown",
   "metadata": {
    "slideshow": {
     "slide_type": "slide"
    }
   },
   "source": [
    "## Dealing with ordered collections of items"
   ]
  },
  {
   "cell_type": "markdown",
   "metadata": {
    "slideshow": {
     "slide_type": "slide"
    }
   },
   "source": [
    "Imagine that the following list represents the current stock of spices in a warehouse."
   ]
  },
  {
   "cell_type": "code",
   "execution_count": null,
   "metadata": {
    "slideshow": {
     "slide_type": "fragment"
    }
   },
   "outputs": [],
   "source": [
    "stock = [('sugar', 100),('salt', 60),('pepper', 15),('thyme', 5),('chili flakes', 140)]\n",
    "print(stock)\n",
    "print(type(stock[0]))"
   ]
  },
  {
   "cell_type": "markdown",
   "metadata": {
    "slideshow": {
     "slide_type": "slide"
    }
   },
   "source": [
    "As you can see, every item in the list is now a tuple consisting of a string that is paired with a number representing the current stock.  \n",
    "  \n",
    "Imagine that we want to iterate over the entire list and generate a *shopping list* of spices that need restock as soon as the current stock is lower than 20 units. When restocking, we always want to aim at restocking up to a stock of 100 units.\n",
    "  \n",
    "We can of course solve this using for loops:"
   ]
  },
  {
   "cell_type": "code",
   "execution_count": null,
   "metadata": {
    "slideshow": {
     "slide_type": "slide"
    }
   },
   "outputs": [],
   "source": [
    "shoppinglist = []\n",
    "for element in stock:\n",
    "    if element[1] < 20:\n",
    "        shoppinglist.append((element[0], 100-element[1]))\n",
    "    else:\n",
    "        pass\n",
    "print(shoppinglist)"
   ]
  },
  {
   "cell_type": "markdown",
   "metadata": {
    "slideshow": {
     "slide_type": "slide"
    }
   },
   "source": [
    "As you may have guessed, this is also possible using list comprehension:"
   ]
  },
  {
   "cell_type": "code",
   "execution_count": null,
   "metadata": {
    "slideshow": {
     "slide_type": "fragment"
    }
   },
   "outputs": [],
   "source": [
    "stock = [('sugar', 100),('salt', 60),('pepper', 15),('thyme', 5),('chili flakes', 140)]\n",
    "print(stock)\n",
    "print(type(stock[0]))"
   ]
  },
  {
   "cell_type": "code",
   "execution_count": null,
   "metadata": {
    "slideshow": {
     "slide_type": "fragment"
    }
   },
   "outputs": [],
   "source": [
    "slist = [(i, 100 - j) for i, j in stock if j<20]\n",
    "print(\"shopping list:\", slist)\n",
    "print(\"we're still good on:\", [(i, j) for i, j in stock if j>=20])"
   ]
  },
  {
   "cell_type": "markdown",
   "metadata": {
    "slideshow": {
     "slide_type": "slide"
    }
   },
   "source": [
    "As you can see above, list comprehensions can also be used inside other methods and functions."
   ]
  },
  {
   "cell_type": "markdown",
   "metadata": {
    "slideshow": {
     "slide_type": "slide"
    }
   },
   "source": [
    "Here is two more examples:  "
   ]
  },
  {
   "cell_type": "code",
   "execution_count": null,
   "metadata": {
    "slideshow": {
     "slide_type": "slide"
    }
   },
   "outputs": [],
   "source": [
    "import numpy as np\n",
    "### example 1: np.arrays\n",
    "a = np.array([np.zeros(4) for i in range(4)])\n",
    "print(type(a))\n",
    "print(a)"
   ]
  },
  {
   "cell_type": "code",
   "execution_count": null,
   "metadata": {
    "slideshow": {
     "slide_type": "slide"
    }
   },
   "outputs": [],
   "source": [
    "## example 2: letter pairs:\n",
    "\n",
    "letterlist = \"abcbacbacbbacbacaabcab\"\n",
    "pairlist = [(i,j) for i,j in zip(letterlist, letterlist[1:])]\n",
    "# note the zip method above! It returns an iterator that iterates \n",
    "# over two iterables and returns tuples of their respective elements at the given iteration step.\n",
    "\n",
    "print(pairlist)"
   ]
  },
  {
   "cell_type": "markdown",
   "metadata": {
    "slideshow": {
     "slide_type": "slide"
    }
   },
   "source": [
    "How about when we only want individual letter pairs and we want to count them at the same time?"
   ]
  },
  {
   "cell_type": "code",
   "execution_count": null,
   "metadata": {
    "slideshow": {
     "slide_type": "slide"
    }
   },
   "outputs": [],
   "source": [
    "## function for letter pairs:\n",
    "def letterpairs(string):\n",
    "    pairlist = [(i,j) for i,j in zip(string, string[1:])]\n",
    "    return pairlist"
   ]
  },
  {
   "cell_type": "code",
   "execution_count": null,
   "metadata": {
    "slideshow": {
     "slide_type": "slide"
    }
   },
   "outputs": [],
   "source": [
    "# for loop solution\n",
    "def wordcount(d, l):\n",
    "    for el in l:\n",
    "        if el in d.keys():\n",
    "            d[el] += 1\n",
    "        else:\n",
    "            d[el] = 1\n",
    "    return"
   ]
  },
  {
   "cell_type": "code",
   "execution_count": null,
   "metadata": {
    "slideshow": {
     "slide_type": "slide"
    }
   },
   "outputs": [],
   "source": [
    "# recursive solution, no for loops for iterating over list!\n",
    "def recwordcount(l,d={},n=0):\n",
    "    if l[n] in d.keys():\n",
    "        d[l[n]] += 1\n",
    "    else:\n",
    "        d[l[n]] = 1\n",
    "    # base case:\n",
    "    if n == len(l)-1:\n",
    "        return d\n",
    "    # recursive function call:\n",
    "    else:\n",
    "        return recwordcount(l,d,n+1)"
   ]
  },
  {
   "cell_type": "code",
   "execution_count": null,
   "metadata": {
    "slideshow": {
     "slide_type": "slide"
    }
   },
   "outputs": [],
   "source": [
    "freqd = recwordcount(letterpairs(\"abcbacbacbbacbacaabcab\"), {}, 0)\n",
    "print(freqd)"
   ]
  },
  {
   "cell_type": "code",
   "execution_count": null,
   "metadata": {
    "slideshow": {
     "slide_type": "slide"
    }
   },
   "outputs": [],
   "source": [
    "dict2 = {}\n",
    "for element in pairlist:\n",
    "    if element not in dict2.keys():\n",
    "        dict2[element] = 1\n",
    "    else:\n",
    "        dict2[element] += 1\n",
    "print(dict2)"
   ]
  },
  {
   "cell_type": "markdown",
   "metadata": {
    "slideshow": {
     "slide_type": "slide"
    }
   },
   "source": [
    "Finally, dictionary comprehension looks a lot like list comprehension:"
   ]
  },
  {
   "cell_type": "code",
   "execution_count": null,
   "metadata": {
    "slideshow": {
     "slide_type": "fragment"
    }
   },
   "outputs": [],
   "source": [
    "dict2 = {element:0 for element in pairlist} ## dictionary comprehension saving us one condition\n",
    "for element in pairlist:\n",
    "    dict2[element] +=1\n",
    "print(dict2)"
   ]
  },
  {
   "cell_type": "markdown",
   "metadata": {
    "slideshow": {
     "slide_type": "slide"
    }
   },
   "source": [
    "But wait, what is that thing with curly brackets we have been using in the second example?"
   ]
  },
  {
   "cell_type": "markdown",
   "metadata": {
    "slideshow": {
     "slide_type": "skip"
    }
   },
   "source": [
    "---"
   ]
  },
  {
   "cell_type": "markdown",
   "metadata": {
    "slideshow": {
     "slide_type": "slide"
    }
   },
   "source": [
    "## A (far too) brief look at dictionaries in Python"
   ]
  },
  {
   "cell_type": "markdown",
   "metadata": {
    "slideshow": {
     "slide_type": "slide"
    }
   },
   "source": [
    "* More information can be found in Guttag (2016), pp. 79-83!\n",
    "* In Python, a dictionary is a set of key:value pairs.\n",
    "* Keys and values do not have to share the same data type.\n",
    "* It is defined using curly brackets:"
   ]
  },
  {
   "cell_type": "code",
   "execution_count": null,
   "metadata": {
    "slideshow": {
     "slide_type": "slide"
    }
   },
   "outputs": [],
   "source": [
    "exampledict = {}\n",
    "print(exampledict)"
   ]
  },
  {
   "cell_type": "code",
   "execution_count": null,
   "metadata": {
    "slideshow": {
     "slide_type": "slide"
    }
   },
   "outputs": [],
   "source": [
    "exampledict[\"test\"] = 1\n",
    "exampledict[\"test\"]"
   ]
  },
  {
   "cell_type": "code",
   "execution_count": null,
   "metadata": {},
   "outputs": [],
   "source": [
    "print(exampledict)"
   ]
  },
  {
   "cell_type": "markdown",
   "metadata": {
    "slideshow": {
     "slide_type": "slide"
    }
   },
   "source": [
    "As with lists, individual key:value pairs in lists are separated by \",\":"
   ]
  },
  {
   "cell_type": "code",
   "execution_count": null,
   "metadata": {
    "slideshow": {
     "slide_type": "fragment"
    }
   },
   "outputs": [],
   "source": [
    "exdict2 = {\"apples\":2, \"oranges\":3, \"chocolate bars\":0, \"sad academics\":1}"
   ]
  },
  {
   "cell_type": "markdown",
   "metadata": {
    "slideshow": {
     "slide_type": "slide"
    }
   },
   "source": [
    "Given a defined dictionary, the value of a given key can be queried as follows:"
   ]
  },
  {
   "cell_type": "code",
   "execution_count": null,
   "metadata": {
    "slideshow": {
     "slide_type": "fragment"
    }
   },
   "outputs": [],
   "source": [
    "exdict2[\"bananas\"]=17"
   ]
  },
  {
   "cell_type": "code",
   "execution_count": null,
   "metadata": {},
   "outputs": [],
   "source": [
    "exdict2[\"bananas\"]"
   ]
  },
  {
   "cell_type": "markdown",
   "metadata": {
    "slideshow": {
     "slide_type": "slide"
    }
   },
   "source": [
    "As you can see, in a way, values in a dictionary are indexed by their respective keys. Therefore you can change them in a fashion that is very similar to the kind of statements you have already been using on lists.  \n",
    "  \n",
    "Imagine that one of the apples has been eaten."
   ]
  },
  {
   "cell_type": "code",
   "execution_count": null,
   "metadata": {
    "slideshow": {
     "slide_type": "fragment"
    }
   },
   "outputs": [],
   "source": [
    "exdict2[\"apples\"]-=1\n",
    "exdict2"
   ]
  },
  {
   "cell_type": "markdown",
   "metadata": {
    "slideshow": {
     "slide_type": "slide"
    }
   },
   "source": [
    "You can simply add a new key:value pair to a given dictionary as follows.  \n",
    "Suppose that we have bought a chocolate bar and want to add it to our dictionary.\n",
    "Also suppose that this makes at least one academic happy."
   ]
  },
  {
   "cell_type": "code",
   "execution_count": null,
   "metadata": {
    "slideshow": {
     "slide_type": "fragment"
    }
   },
   "outputs": [],
   "source": [
    "exdict2[\"mars bars\"] = 1\n",
    "exdict2[\"sad academics\"] -= 1\n",
    "exdict2"
   ]
  },
  {
   "cell_type": "markdown",
   "metadata": {
    "slideshow": {
     "slide_type": "slide"
    }
   },
   "source": [
    "Please note that the \"-= 1\" statement used above can only be used to modify values corresponding to keys that can already be found in a dictionary:"
   ]
  },
  {
   "cell_type": "code",
   "execution_count": null,
   "metadata": {
    "slideshow": {
     "slide_type": "fragment"
    }
   },
   "outputs": [],
   "source": [
    "exdict2[\"peanuts\"]+=1"
   ]
  },
  {
   "cell_type": "markdown",
   "metadata": {
    "slideshow": {
     "slide_type": "skip"
    }
   },
   "source": [
    "----"
   ]
  },
  {
   "cell_type": "markdown",
   "metadata": {
    "slideshow": {
     "slide_type": "slide"
    }
   },
   "source": [
    "## Exercise!\n",
    "  \n",
    "Please have a look at the following table representing the amount of available silverware in a given drawer. Please create a dictionary that ties all items (as keys) to the amount in which they are given in the imagined drawer?  \n",
    "  \n",
    "| forks | spoons | knives |\n",
    "|-------|--------|--------|\n",
    "| 15    | 10     | 17     |"
   ]
  },
  {
   "cell_type": "code",
   "execution_count": null,
   "metadata": {},
   "outputs": [],
   "source": [
    "cutlery = {\"forks\":15, \"spoons\":10, \"knives\":17}\n",
    "print(cutlery)"
   ]
  },
  {
   "cell_type": "markdown",
   "metadata": {
    "slideshow": {
     "slide_type": "skip"
    }
   },
   "source": [
    "----"
   ]
  },
  {
   "cell_type": "markdown",
   "metadata": {
    "slideshow": {
     "slide_type": "slide"
    }
   },
   "source": [
    "## Towards a transition matrix"
   ]
  },
  {
   "cell_type": "markdown",
   "metadata": {
    "slideshow": {
     "slide_type": "slide"
    }
   },
   "source": [
    "Have a look at the whiteboard."
   ]
  },
  {
   "cell_type": "markdown",
   "metadata": {
    "slideshow": {
     "slide_type": "slide"
    }
   },
   "source": [
    "Imagine that \"a\", \"b\", and \"c\" refer to three possible states and that you would now like to count the transitions from any of these states in a matrix.  \n",
    "  \n",
    "In our case, the matrix rows might represent the original state, while every column counts the number of occurrence of any target state given this original state."
   ]
  },
  {
   "cell_type": "markdown",
   "metadata": {
    "slideshow": {
     "slide_type": "slide"
    }
   },
   "source": [
    "This is easily encoded using a dictionary, list comprehension and numpy:"
   ]
  },
  {
   "cell_type": "code",
   "execution_count": null,
   "metadata": {
    "slideshow": {
     "slide_type": "fragment"
    }
   },
   "outputs": [],
   "source": [
    "tpdict={\"a\":0, \"b\":1, \"c\":2}\n",
    "lettertp = np.array([np.zeros(3) for i in range(3)])\n",
    "print(lettertp)"
   ]
  },
  {
   "cell_type": "code",
   "execution_count": null,
   "metadata": {
    "slideshow": {
     "slide_type": "slide"
    }
   },
   "outputs": [],
   "source": [
    "# note that something similar to list comprehension exists for dictionaries:\n",
    "letters, integers = [\"a\",\"b\",\"c\",\"d\",\"e\"], [i for i in range(0,6)]\n",
    "print(letters,integers)\n",
    "tpdict2 = {k:v for k, v in zip(letters, integers)}\n",
    "tpdict2"
   ]
  },
  {
   "cell_type": "code",
   "execution_count": null,
   "metadata": {
    "slideshow": {
     "slide_type": "slide"
    }
   },
   "outputs": [],
   "source": [
    "print(pairlist)\n",
    "print(tpdict)"
   ]
  },
  {
   "cell_type": "markdown",
   "metadata": {
    "slideshow": {
     "slide_type": "slide"
    }
   },
   "source": [
    "Let us first convert our letter pair tuples to integers via our dictionary from above:"
   ]
  },
  {
   "cell_type": "code",
   "execution_count": null,
   "metadata": {
    "slideshow": {
     "slide_type": "fragment"
    }
   },
   "outputs": [],
   "source": [
    "intpairs = [(tpdict[i], tpdict[j]) for i,j in pairlist] \n",
    "# note the behaviour when using two iterating variables for ordered collections (tuples)\n",
    "print(intpairs)"
   ]
  },
  {
   "cell_type": "code",
   "execution_count": null,
   "metadata": {
    "slideshow": {
     "slide_type": "slide"
    }
   },
   "outputs": [],
   "source": [
    "for e1, e2 in pairlist:\n",
    "    lettertp[tpdict[e1]][tpdict[e2]]+=1 # note that this part might be difficult using list comprehension.\n",
    "print(lettertp)"
   ]
  },
  {
   "cell_type": "markdown",
   "metadata": {
    "slideshow": {
     "slide_type": "slide"
    }
   },
   "source": [
    "One more step. The same can be used to directly generate the transition probability for a given string, as strings in Python are also iterable:"
   ]
  },
  {
   "cell_type": "code",
   "execution_count": null,
   "metadata": {
    "slideshow": {
     "slide_type": "fragment"
    }
   },
   "outputs": [],
   "source": [
    "str1 = \"abbacacbacbac\"\n",
    "for element in str1:\n",
    "    print(element)"
   ]
  },
  {
   "cell_type": "code",
   "execution_count": null,
   "metadata": {
    "slideshow": {
     "slide_type": "slide"
    }
   },
   "outputs": [],
   "source": [
    "# therefore, we can create a transition matrix from a given string as follows:  \n",
    "\n",
    "tpdict={\"a\":0, \"b\":1, \"c\":2}\n",
    "\n",
    "lettertp = np.array([np.zeros(3) for i in range(3)])\n",
    "\n",
    "for e1,e2 in [(i,j) for i,j in zip(str1, str1[1:])]:\n",
    "    lettertp[tpdict[e1]][tpdict[e2]]+=1\n",
    "\n",
    "print(lettertp)"
   ]
  },
  {
   "cell_type": "markdown",
   "metadata": {
    "slideshow": {
     "slide_type": "slide"
    }
   },
   "source": [
    "$\\rightarrow$ But - why have we been using for loops in tandem with list comprehension in some of the examples above?"
   ]
  },
  {
   "cell_type": "markdown",
   "metadata": {
    "slideshow": {
     "slide_type": "fragment"
    }
   },
   "source": [
    "Keep in mind that:  \n",
    "\n",
    "* list comprehension in Python is used to build lists\n",
    "* the basic syntax for list comprehension in python is ```[expression for val in collection]```\n",
    "* therefore, list comprehension is based on building expressions based on variable values iterating over collections.  \n",
    "  \n",
    "If you want to know more, you can for example refer to sections 2.4 and 2.5 of [this source](http://greenteapress.com/thinkpython/thinkCSpy/html/chap02.html)."
   ]
  },
  {
   "cell_type": "markdown",
   "metadata": {
    "slideshow": {
     "slide_type": "skip"
    }
   },
   "source": [
    "-----"
   ]
  },
  {
   "cell_type": "markdown",
   "metadata": {
    "slideshow": {
     "slide_type": "slide"
    }
   },
   "source": [
    "## Ecercise!!\n",
    "1. Define a dictionary representing the following states (as the integer in brackets): \"a\"(0), \"b\"(1), \"c\"(2), \"d\"(4), \"e\"(5)."
   ]
  },
  {
   "cell_type": "markdown",
   "metadata": {
    "slideshow": {
     "slide_type": "fragment"
    }
   },
   "source": [
    "2. Using either a list of letter pairs (as tuples) or directly iterating over it, can you please create a transition matrix (5*5) for the individual letters in the following string, based on the dictionary from the last exercise?"
   ]
  },
  {
   "cell_type": "code",
   "execution_count": null,
   "metadata": {
    "slideshow": {
     "slide_type": "slide"
    }
   },
   "outputs": [],
   "source": [
    "exstring1 = \"acdeabedcbaedbcaebdadabdaedccbaadaecbedddeabacbad\""
   ]
  },
  {
   "cell_type": "code",
   "execution_count": null,
   "metadata": {
    "slideshow": {
     "slide_type": "fragment"
    }
   },
   "outputs": [],
   "source": [
    "tpdict={\"a\":0, \"b\":1, \"c\":2, \"d\":3, \"e\":4, \"f\":5}\n",
    "\n",
    "lettertp = np.array([np.zeros(len(tpdict.keys())) for i in range(len(tpdict.keys()))])\n",
    "\n",
    "for e1,e2 in [(i,j) for i,j in zip(exstring1, exstring1[1:])]:\n",
    "    lettertp[tpdict[e1]][tpdict[e2]]+=1\n",
    "\n",
    "print(lettertp)"
   ]
  },
  {
   "cell_type": "markdown",
   "metadata": {
    "slideshow": {
     "slide_type": "skip"
    }
   },
   "source": [
    "---"
   ]
  },
  {
   "cell_type": "markdown",
   "metadata": {
    "slideshow": {
     "slide_type": "slide"
    }
   },
   "source": [
    "## Musical application"
   ]
  },
  {
   "cell_type": "markdown",
   "metadata": {
    "slideshow": {
     "slide_type": "slide"
    }
   },
   "source": [
    "Transition matrices can be readily applied to musical material.\n",
    "  \n",
    "For example, they could be used to account for the number of times that a certain musical event is followed by other possible musical events.  \n",
    "(please remember our *bag of(pairs of notes) - model*!)\n",
    "  \n",
    "Let us once more turn to the blackboard."
   ]
  },
  {
   "cell_type": "markdown",
   "metadata": {
    "slideshow": {
     "slide_type": "slide"
    }
   },
   "source": [
    "A transition matrix for bigrams of chord states could for example be generated using the following function:"
   ]
  },
  {
   "cell_type": "code",
   "execution_count": null,
   "metadata": {
    "slideshow": {
     "slide_type": "slide"
    }
   },
   "outputs": [],
   "source": [
    "def transprop(piece):\n",
    "    \n",
    "    # take a given piece from the music21 corpus and convert it to a stream:\n",
    "    c = corpus.parse(piece)\n",
    "\n",
    "    # we now want to create a list of chord roots to represent the temporal structure of root progression in the piece.\n",
    "    # we will be doing this by using list comprehension and a few filters and methods from music21 that you should be familiar with.\n",
    "    rootlist = [element.root().pitchClass for element in c.chordify().recurse().getElementsByClass(chord.Chord)]\n",
    "    \n",
    "    # as above, we will create a list of ordered root note pairs: \n",
    "    rootpairlist = [(i, j) for i, j in zip(rootlist, rootlist[1:])] # zip once more allows us to iterate over two iterables (lists) at the same time.\n",
    "    # we use list slicing to \"look ahead\" one item in our rootlist.\n",
    "    \n",
    "    # create a 12*12 array of 0s\n",
    "    trmat = np.array([np.zeros(12)] * 12)\n",
    "    \n",
    "    # now we iterate over our root pair list. Exploiting list indexing and the fact that we are dealing with pitch classes form 0 to 11,\n",
    "    # we can modify our array accordingly for every state transition that is observed.\n",
    "    for element in rootpairlist:\n",
    "        trmat[element[0]][element[1]] += 1\n",
    "    # return our final array:    \n",
    "    return trmat"
   ]
  },
  {
   "cell_type": "markdown",
   "metadata": {
    "slideshow": {
     "slide_type": "slide"
    }
   },
   "source": [
    "Let us apply this function to a given piece from the music21 corpus:"
   ]
  },
  {
   "cell_type": "code",
   "execution_count": null,
   "metadata": {
    "slideshow": {
     "slide_type": "slide"
    }
   },
   "outputs": [],
   "source": [
    "freqarray = transprop(\"/bach/bwv25\")\n",
    "freqarray"
   ]
  },
  {
   "cell_type": "markdown",
   "metadata": {
    "slideshow": {
     "slide_type": "slide"
    }
   },
   "source": [
    "Right now, this array is not of much use. However, if we take one final step.  \n",
    "  \n",
    "However, if we take into account that we now have an array representing observations of state transitions in a given musical context, we can imagine that this allows us to convert our values for absolute occurence of states based on various previous states to conditional probabilities.  \n",
    "  \n",
    "This can be achieved by dividing any value in a given row of our matrix by the sum of all values in that row. (After all, given the occurence of a given previous state represented in a row, the sum of conditional propabilities should intuitively be = 1.)"
   ]
  },
  {
   "cell_type": "code",
   "execution_count": null,
   "metadata": {
    "slideshow": {
     "slide_type": "slide"
    }
   },
   "outputs": [],
   "source": [
    "proparray = np.array([[(i / sum(j)) if i !=0 else i for i in j] for j in freqarray])\n",
    "proparray"
   ]
  },
  {
   "cell_type": "markdown",
   "metadata": {
    "slideshow": {
     "slide_type": "slide"
    }
   },
   "source": [
    "## That's all for today."
   ]
  },
  {
   "cell_type": "markdown",
   "metadata": {
    "slideshow": {
     "slide_type": "slide"
    }
   },
   "source": [
    "<img src='https://cdn.pixabay.com/photo/2016/03/04/19/36/beach-1236581_1280.jpg' width = 700>"
   ]
  },
  {
   "cell_type": "markdown",
   "metadata": {},
   "source": [
    "------"
   ]
  },
  {
   "cell_type": "markdown",
   "metadata": {
    "slideshow": {
     "slide_type": "slide"
    }
   },
   "source": [
    "### References"
   ]
  },
  {
   "cell_type": "markdown",
   "metadata": {
    "slideshow": {
     "slide_type": "fragment"
    }
   },
   "source": [
    "First of all, here are a few articles focussing on list comprehension:\n",
    "  \n",
    "[Jarrell, E. (2019). *List Comprehension in Python.* Hackernoon.](https://hackernoon.com/list-comprehension-in-python-c762ba1f523f)  \n",
    "[Yordanov, V. (2018). *Python Basics: List Comprehensions*. Towardsdatascience.](https://towardsdatascience.com/python-basics-list-comprehensions-631278f22c40) \n",
    "  \n",
    "As well as [this rather entertaining video](https://www.youtube.com/watch?v=AhSvKGTh28Q).\n",
    "  \n",
    "**General References for learning Python**  \n",
    " \n",
    "Guttag, J. (2016). *Introduction to computation and programming using Python: With application to understanding data.* MIT Press.\n",
    " \n",
    "Shaw, Z. A. (2017). *Learn python 3 the hard way: A very simple introduction to the terrifyingly beautiful world of computers and code.* Addison-Wesley Professional.\n",
    "\n",
    "Shaw, Z. A. (2017). *Learn More Python 3 the Hard Way: The Next Step for New Python Programmers.* Addison-Wesley Professional."
   ]
  }
 ],
 "metadata": {
  "celltoolbar": "Slideshow",
  "kernelspec": {
   "display_name": "Python 3.7.7",
   "language": "python",
   "name": "py3pack"
  },
  "language_info": {
   "codemirror_mode": {
    "name": "ipython",
    "version": 3
   },
   "file_extension": ".py",
   "mimetype": "text/x-python",
   "name": "python",
   "nbconvert_exporter": "python",
   "pygments_lexer": "ipython3",
   "version": "3.7.7"
  }
 },
 "nbformat": 4,
 "nbformat_minor": 4
}
